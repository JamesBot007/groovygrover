{
 "cells": [
  {
   "cell_type": "code",
   "execution_count": null,
   "metadata": {},
   "outputs": [],
   "source": []
  },
  {
   "cell_type": "code",
   "execution_count": 22,
   "metadata": {},
   "outputs": [
    {
     "data": {
      "text/html": [
       "<pre style=\"word-wrap: normal;white-space: pre;background: #fff0;line-height: 1.1;font-family: &quot;Courier New&quot;,Courier,monospace\">     ┌───┐      ░                 ░       ░ ┌───┐┌───┐ ░                 ░ »\n",
       "q_0: ┤ H ├──────░────────■────────░───────░─┤ H ├┤ X ├─░────────■────────░─»\n",
       "     ├───┤      ░        │        ░       ░ ├───┤├───┤ ░        │        ░ »\n",
       "q_1: ┤ H ├──────░────────■────────░───────░─┤ H ├┤ X ├─░────────■────────░─»\n",
       "     ├───┤      ░        │        ░       ░ ├───┤├───┤ ░        │        ░ »\n",
       "q_2: ┤ H ├──────░────────■────────░───────░─┤ H ├┤ X ├─░────────■────────░─»\n",
       "     ├───┤      ░        │        ░       ░ ├───┤├───┤ ░        │        ░ »\n",
       "q_3: ┤ H ├──────░────────■────────░───────░─┤ H ├┤ X ├─░────────■────────░─»\n",
       "     ├───┤┌───┐ ░ ┌───┐┌─┴─┐┌───┐ ░ ┌───┐ ░ ├───┤├───┤ ░ ┌───┐┌─┴─┐┌───┐ ░ »\n",
       "q_4: ┤ H ├┤ X ├─░─┤ H ├┤ X ├┤ H ├─░─┤ X ├─░─┤ H ├┤ X ├─░─┤ H ├┤ X ├┤ H ├─░─»\n",
       "     └───┘└───┘ ░ └───┘└───┘└───┘ ░ └───┘ ░ └───┘└───┘ ░ └───┘└───┘└───┘ ░ »\n",
       "«     ┌───┐┌───┐      ░                 ░       ░ ┌───┐┌───┐ ░                »\n",
       "«q_0: ┤ X ├┤ H ├──────░────────■────────░───────░─┤ H ├┤ X ├─░────────■───────»\n",
       "«     ├───┤├───┤      ░        │        ░       ░ ├───┤├───┤ ░        │       »\n",
       "«q_1: ┤ X ├┤ H ├──────░────────■────────░───────░─┤ H ├┤ X ├─░────────■───────»\n",
       "«     ├───┤├───┤      ░        │        ░       ░ ├───┤├───┤ ░        │       »\n",
       "«q_2: ┤ X ├┤ H ├──────░────────■────────░───────░─┤ H ├┤ X ├─░────────■───────»\n",
       "«     ├───┤├───┤      ░        │        ░       ░ ├───┤├───┤ ░        │       »\n",
       "«q_3: ┤ X ├┤ H ├──────░────────■────────░───────░─┤ H ├┤ X ├─░────────■───────»\n",
       "«     ├───┤├───┤┌───┐ ░ ┌───┐┌─┴─┐┌───┐ ░ ┌───┐ ░ ├───┤├───┤ ░ ┌───┐┌─┴─┐┌───┐»\n",
       "«q_4: ┤ X ├┤ H ├┤ X ├─░─┤ H ├┤ X ├┤ H ├─░─┤ X ├─░─┤ H ├┤ X ├─░─┤ H ├┤ X ├┤ H ├»\n",
       "«     └───┘└───┘└───┘ ░ └───┘└───┘└───┘ ░ └───┘ ░ └───┘└───┘ ░ └───┘└───┘└───┘»\n",
       "«      ░ ┌───┐┌───┐\n",
       "«q_0: ─░─┤ X ├┤ H ├\n",
       "«      ░ ├───┤├───┤\n",
       "«q_1: ─░─┤ X ├┤ H ├\n",
       "«      ░ ├───┤├───┤\n",
       "«q_2: ─░─┤ X ├┤ H ├\n",
       "«      ░ ├───┤├───┤\n",
       "«q_3: ─░─┤ X ├┤ H ├\n",
       "«      ░ ├───┤├───┤\n",
       "«q_4: ─░─┤ X ├┤ H ├\n",
       "«      ░ └───┘└───┘</pre>"
      ],
      "text/plain": [
       "     ┌───┐      ░                 ░       ░ ┌───┐┌───┐ ░                 ░ »\n",
       "q_0: ┤ H ├──────░────────■────────░───────░─┤ H ├┤ X ├─░────────■────────░─»\n",
       "     ├───┤      ░        │        ░       ░ ├───┤├───┤ ░        │        ░ »\n",
       "q_1: ┤ H ├──────░────────■────────░───────░─┤ H ├┤ X ├─░────────■────────░─»\n",
       "     ├───┤      ░        │        ░       ░ ├───┤├───┤ ░        │        ░ »\n",
       "q_2: ┤ H ├──────░────────■────────░───────░─┤ H ├┤ X ├─░────────■────────░─»\n",
       "     ├───┤      ░        │        ░       ░ ├───┤├───┤ ░        │        ░ »\n",
       "q_3: ┤ H ├──────░────────■────────░───────░─┤ H ├┤ X ├─░────────■────────░─»\n",
       "     ├───┤┌───┐ ░ ┌───┐┌─┴─┐┌───┐ ░ ┌───┐ ░ ├───┤├───┤ ░ ┌───┐┌─┴─┐┌───┐ ░ »\n",
       "q_4: ┤ H ├┤ X ├─░─┤ H ├┤ X ├┤ H ├─░─┤ X ├─░─┤ H ├┤ X ├─░─┤ H ├┤ X ├┤ H ├─░─»\n",
       "     └───┘└───┘ ░ └───┘└───┘└───┘ ░ └───┘ ░ └───┘└───┘ ░ └───┘└───┘└───┘ ░ »\n",
       "«     ┌───┐┌───┐      ░                 ░       ░ ┌───┐┌───┐ ░                »\n",
       "«q_0: ┤ X ├┤ H ├──────░────────■────────░───────░─┤ H ├┤ X ├─░────────■───────»\n",
       "«     ├───┤├───┤      ░        │        ░       ░ ├───┤├───┤ ░        │       »\n",
       "«q_1: ┤ X ├┤ H ├──────░────────■────────░───────░─┤ H ├┤ X ├─░────────■───────»\n",
       "«     ├───┤├───┤      ░        │        ░       ░ ├───┤├───┤ ░        │       »\n",
       "«q_2: ┤ X ├┤ H ├──────░────────■────────░───────░─┤ H ├┤ X ├─░────────■───────»\n",
       "«     ├───┤├───┤      ░        │        ░       ░ ├───┤├───┤ ░        │       »\n",
       "«q_3: ┤ X ├┤ H ├──────░────────■────────░───────░─┤ H ├┤ X ├─░────────■───────»\n",
       "«     ├───┤├───┤┌───┐ ░ ┌───┐┌─┴─┐┌───┐ ░ ┌───┐ ░ ├───┤├───┤ ░ ┌───┐┌─┴─┐┌───┐»\n",
       "«q_4: ┤ X ├┤ H ├┤ X ├─░─┤ H ├┤ X ├┤ H ├─░─┤ X ├─░─┤ H ├┤ X ├─░─┤ H ├┤ X ├┤ H ├»\n",
       "«     └───┘└───┘└───┘ ░ └───┘└───┘└───┘ ░ └───┘ ░ └───┘└───┘ ░ └───┘└───┘└───┘»\n",
       "«      ░ ┌───┐┌───┐\n",
       "«q_0: ─░─┤ X ├┤ H ├\n",
       "«      ░ ├───┤├───┤\n",
       "«q_1: ─░─┤ X ├┤ H ├\n",
       "«      ░ ├───┤├───┤\n",
       "«q_2: ─░─┤ X ├┤ H ├\n",
       "«      ░ ├───┤├───┤\n",
       "«q_3: ─░─┤ X ├┤ H ├\n",
       "«      ░ ├───┤├───┤\n",
       "«q_4: ─░─┤ X ├┤ H ├\n",
       "«      ░ └───┘└───┘"
      ]
     },
     "execution_count": 22,
     "metadata": {},
     "output_type": "execute_result"
    }
   ],
   "source": [
    "#matplotlib inline\n",
    "# Importing standard Qiskit libraries and configuring account\n",
    "from qiskit import *\n",
    "from qiskit.compiler import transpile, assemble\n",
    "from qiskit.tools.jupyter import *\n",
    "from qiskit.visualization import *\n",
    "# Loading your IBM Q account(s)\n",
    "#provider = IBMQ.load_account()\n",
    "from numpy import *\n",
    "\n",
    "nQubits = 5\n",
    "\n",
    "Grover = QuantumCircuit(nQubits)\n",
    "\n",
    "#GroverAlgorithm \n",
    "\n",
    "#Initalize\n",
    "for i in range(nQubits):\n",
    "    Grover.h(i)\n",
    "    \n",
    "for iterations in range(round(sqrt(nQubits))): #carrying out sqrt(numberQubits) Iterations of Algorithm\n",
    "    #Oracle\n",
    "    #depending on wich state you like to mark -> look at paper for 4 qubits (here 01111 state is marked)\n",
    "    \n",
    "    #for i in range(nQubits):\n",
    "    Grover.x(nQubits-1)\n",
    "#Grover.x(1)\n",
    "    Grover.barrier()\n",
    "    Grover.h(nQubits-1)\n",
    "    Grover.mct(list(range(nQubits-1)),nQubits-1)\n",
    "    Grover.h(nQubits-1)\n",
    "    Grover.barrier()\n",
    "    #for i in range(nQubits):\n",
    "    Grover.x(nQubits-1)\n",
    "    #Grover.x(1)\n",
    "\n",
    "    #amplification\n",
    "\n",
    "    Grover.barrier()\n",
    "#######\n",
    "\n",
    "    for i in range(nQubits):  #\n",
    "        Grover.h(i)\n",
    "    \n",
    "    for i in range(nQubits):\n",
    "        Grover.x(i)\n",
    "    Grover.barrier()\n",
    "    Grover.h(nQubits-1)                   #this and two following lines are the implementation of c..cZ-Gate as an c..cNOt Gate in Combination with 2 H-Gates\n",
    "    Grover.mct(list(range(nQubits-1)),nQubits-1)\n",
    "    Grover.h(nQubits-1)\n",
    "    Grover.barrier()\n",
    "    for i in range(nQubits):\n",
    "        Grover.x(i)\n",
    "    for i in range(nQubits):\n",
    "        Grover.h(i)\n",
    "# is it better to put oracle and amplification into extra functions for having an better overview?\n",
    "Grover.draw()"
   ]
  },
  {
   "cell_type": "code",
   "execution_count": 23,
   "metadata": {},
   "outputs": [
    {
     "data": {
      "image/png": "[encoded data removed]",
      "text/plain": [
       "<Figure size 504x360 with 1 Axes>"
      ]
     },
     "execution_count": 23,
     "metadata": {},
     "output_type": "execute_result"
    }
   ],
   "source": [
    "from qiskit.visualization import *\n",
    "from math import sqrt, pi\n",
    "backend = Aer.get_backend('statevector_simulator')\n",
    "result = execute(Grover,backend).result()\n",
    "counts = result.get_counts()\n",
    "plot_histogram(counts)"
   ]
  },
  {
   "cell_type": "code",
   "execution_count": null,
   "metadata": {},
   "outputs": [],
   "source": []
  },
  {
   "cell_type": "code",
   "execution_count": null,
   "metadata": {},
   "outputs": [],
   "source": []
  }
 ],
 "metadata": {
  "kernelspec": {
   "display_name": "Python 3",
   "language": "python",
   "name": "python3"
  },
  "language_info": {
   "codemirror_mode": {
    "name": "ipython",
    "version": 3
   },
   "file_extension": ".py",
   "mimetype": "text/x-python",
   "name": "python",
   "nbconvert_exporter": "python",
   "pygments_lexer": "ipython3",
   "version": "3.7.4"
  }
 },
 "nbformat": 4,
 "nbformat_minor": 2
}
