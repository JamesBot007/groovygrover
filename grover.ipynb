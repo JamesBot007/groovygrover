{
 "cells": [
  {
   "cell_type": "markdown",
   "metadata": {},
   "source": [
    "Hi it's me, your empty notebook"
   ]
  },
  {
   "cell_type": "code",
   "execution_count": 1,
   "metadata": {},
   "outputs": [
    {
     "ename": "IBMQAccountCredentialsInvalidToken",
     "evalue": "'Invalid IBM Quantum Experience token found: \"\" of type <class \\'str\\'>.'",
     "output_type": "error",
     "traceback": [
      "\u001b[1;31m---------------------------------------------------------------------------\u001b[0m",
      "\u001b[1;31mIBMQAccountCredentialsInvalidToken\u001b[0m        Traceback (most recent call last)",
      "\u001b[1;32m<ipython-input-1-5be4dc11d0bf>\u001b[0m in \u001b[0;36m<module>\u001b[1;34m\u001b[0m\n\u001b[0;32m      3\u001b[0m \u001b[1;32mfrom\u001b[0m \u001b[0mqiskit\u001b[0m \u001b[1;32mimport\u001b[0m \u001b[0mQuantumCircuit\u001b[0m\u001b[1;33m,\u001b[0m \u001b[0mQuantumRegister\u001b[0m\u001b[1;33m,\u001b[0m \u001b[0mvisualization\u001b[0m\u001b[1;33m,\u001b[0m\u001b[0mClassicalRegister\u001b[0m\u001b[1;33m\u001b[0m\u001b[1;33m\u001b[0m\u001b[0m\n\u001b[0;32m      4\u001b[0m \u001b[1;32mfrom\u001b[0m \u001b[0mmath\u001b[0m \u001b[1;32mimport\u001b[0m \u001b[0mpi\u001b[0m\u001b[1;33m\u001b[0m\u001b[1;33m\u001b[0m\u001b[0m\n\u001b[1;32m----> 5\u001b[1;33m \u001b[0mIBMQ\u001b[0m\u001b[1;33m.\u001b[0m\u001b[0msave_account\u001b[0m\u001b[1;33m(\u001b[0m\u001b[1;34m''\u001b[0m\u001b[1;33m,\u001b[0m \u001b[0moverwrite\u001b[0m\u001b[1;33m=\u001b[0m\u001b[1;32mTrue\u001b[0m\u001b[1;33m)\u001b[0m\u001b[1;33m\u001b[0m\u001b[1;33m\u001b[0m\u001b[0m\n\u001b[0m\u001b[0;32m      6\u001b[0m \u001b[0mIBMQ\u001b[0m\u001b[1;33m.\u001b[0m\u001b[0mload_account\u001b[0m\u001b[1;33m(\u001b[0m\u001b[1;33m)\u001b[0m\u001b[1;33m\u001b[0m\u001b[1;33m\u001b[0m\u001b[0m\n\u001b[0;32m      7\u001b[0m \u001b[0mhub_name\u001b[0m \u001b[1;33m=\u001b[0m \u001b[1;34m'ibm-q-education'\u001b[0m\u001b[1;33m;\u001b[0m \u001b[0mgroup_name\u001b[0m \u001b[1;33m=\u001b[0m \u001b[1;34m'tum-filipp-su20'\u001b[0m\u001b[1;33m;\u001b[0m \u001b[0mproject_name\u001b[0m \u001b[1;33m=\u001b[0m \u001b[1;34m'ph2299'\u001b[0m\u001b[1;33m\u001b[0m\u001b[1;33m\u001b[0m\u001b[0m\n",
      "\u001b[1;32m~\\anaconda3\\lib\\site-packages\\qiskit\\providers\\ibmq\\ibmqfactory.py\u001b[0m in \u001b[0;36msave_account\u001b[1;34m(token, url, hub, group, project, overwrite, **kwargs)\u001b[0m\n\u001b[0;32m    259\u001b[0m             raise IBMQAccountCredentialsInvalidToken(\n\u001b[0;32m    260\u001b[0m                 \u001b[1;34m'Invalid IBM Quantum Experience token '\u001b[0m\u001b[1;33m\u001b[0m\u001b[1;33m\u001b[0m\u001b[0m\n\u001b[1;32m--> 261\u001b[1;33m                 'found: \"{}\" of type {}.'.format(token, type(token)))\n\u001b[0m\u001b[0;32m    262\u001b[0m \u001b[1;33m\u001b[0m\u001b[0m\n\u001b[0;32m    263\u001b[0m         \u001b[0mcredentials\u001b[0m \u001b[1;33m=\u001b[0m \u001b[0mCredentials\u001b[0m\u001b[1;33m(\u001b[0m\u001b[0mtoken\u001b[0m\u001b[1;33m,\u001b[0m \u001b[0murl\u001b[0m\u001b[1;33m,\u001b[0m \u001b[1;33m**\u001b[0m\u001b[0mkwargs\u001b[0m\u001b[1;33m)\u001b[0m\u001b[1;33m\u001b[0m\u001b[1;33m\u001b[0m\u001b[0m\n",
      "\u001b[1;31mIBMQAccountCredentialsInvalidToken\u001b[0m: 'Invalid IBM Quantum Experience token found: \"\" of type <class \\'str\\'>.'"
     ]
    }
   ],
   "source": [
    "import numpy as np\n",
    "from qiskit import IBMQ,execute\n",
    "from qiskit import QuantumCircuit, QuantumRegister, visualization,ClassicalRegister\n",
    "from math import pi\n",
    "IBMQ.save_account('', overwrite=True)\n",
    "IBMQ.load_account()\n",
    "hub_name = 'ibm-q-education'; group_name = 'tum-filipp-su20'; project_name = 'ph2299'\n",
    "provider = IBMQ.get_provider(hub=hub_name, group=group_name, project=project_name)"
   ]
  },
  {
   "cell_type": "code",
   "execution_count": 2,
   "metadata": {},
   "outputs": [
    {
     "data": {
      "text/plain": [
       "<qiskit.circuit.instructionset.InstructionSet at 0x25804c87a48>"
      ]
     },
     "execution_count": 2,
     "metadata": {},
     "output_type": "execute_result"
    }
   ],
   "source": [
    "#Initialise a classical and quantum register and create the qc\n",
    "#Then apply hadamard gate to all\n",
    "qr=QuantumRegister(4,'q')\n",
    "cr=ClassicalRegister(4,'c')\n",
    "qc=QuantumCircuit(qr,cr)\n",
    "qc.h(qr)"
   ]
  },
  {
   "cell_type": "code",
   "execution_count": 3,
   "metadata": {},
   "outputs": [
    {
     "data": {
      "text/html": [
       "<pre style=\"word-wrap: normal;white-space: pre;background: #fff0;line-height: 1.1;font-family: &quot;Courier New&quot;,Courier,monospace\">     ┌───┐┌───┐                                                              »\n",
       "q_0: ┤ H ├┤ X ├─■───────■────────────■────────────────────────■──────────────»\n",
       "     ├───┤├───┤ │     ┌─┴─┐        ┌─┴─┐                      │              »\n",
       "q_1: ┤ H ├┤ X ├─┼─────┤ X ├─■──────┤ X ├─■───────■────────────┼───────────■──»\n",
       "     ├───┤├───┤ │     └───┘ │      └───┘ │     ┌─┴─┐        ┌─┴─┐       ┌─┴─┐»\n",
       "q_2: ┤ H ├┤ X ├─┼───────────┼────────────┼─────┤ X ├─■──────┤ X ├─■─────┤ X ├»\n",
       "     ├───┤├───┤ │pi/4       │-pi/4       │pi/4 └───┘ │-pi/4 └───┘ │pi/4 └───┘»\n",
       "q_3: ┤ H ├┤ X ├─■───────────■────────────■───────────■────────────■──────────»\n",
       "     └───┘└───┘                                                              »\n",
       "c_0: ════════════════════════════════════════════════════════════════════════»\n",
       "                                                                             »\n",
       "c_1: ════════════════════════════════════════════════════════════════════════»\n",
       "                                                                             »\n",
       "c_2: ════════════════════════════════════════════════════════════════════════»\n",
       "                                                                             »\n",
       "c_3: ════════════════════════════════════════════════════════════════════════»\n",
       "                                                                             »\n",
       "«                          ┌───┐        \n",
       "«q_0: ───────────────■─────┤ X ├────────\n",
       "«         ┌───┐      │     └───┘        \n",
       "«q_1: ────┤ X ├──────┼──────────────────\n",
       "«         └───┘    ┌─┴─┐           ┌───┐\n",
       "«q_2: ─■───────────┤ X ├─■─────────┤ X ├\n",
       "«      │-pi/-pi/4  └───┘ │pi/pi/4  ├───┤\n",
       "«q_3: ─■─────────────────■─────────┤ X ├\n",
       "«                                  └───┘\n",
       "«c_0: ══════════════════════════════════\n",
       "«                                       \n",
       "«c_1: ══════════════════════════════════\n",
       "«                                       \n",
       "«c_2: ══════════════════════════════════\n",
       "«                                       \n",
       "«c_3: ══════════════════════════════════\n",
       "«                                       </pre>"
      ],
      "text/plain": [
       "     ┌───┐┌───┐                                                              »\n",
       "q_0: ┤ H ├┤ X ├─■───────■────────────■────────────────────────■──────────────»\n",
       "     ├───┤├───┤ │     ┌─┴─┐        ┌─┴─┐                      │              »\n",
       "q_1: ┤ H ├┤ X ├─┼─────┤ X ├─■──────┤ X ├─■───────■────────────┼───────────■──»\n",
       "     ├───┤├───┤ │     └───┘ │      └───┘ │     ┌─┴─┐        ┌─┴─┐       ┌─┴─┐»\n",
       "q_2: ┤ H ├┤ X ├─┼───────────┼────────────┼─────┤ X ├─■──────┤ X ├─■─────┤ X ├»\n",
       "     ├───┤├───┤ │pi/4       │-pi/4       │pi/4 └───┘ │-pi/4 └───┘ │pi/4 └───┘»\n",
       "q_3: ┤ H ├┤ X ├─■───────────■────────────■───────────■────────────■──────────»\n",
       "     └───┘└───┘                                                              »\n",
       "c_0: ════════════════════════════════════════════════════════════════════════»\n",
       "                                                                             »\n",
       "c_1: ════════════════════════════════════════════════════════════════════════»\n",
       "                                                                             »\n",
       "c_2: ════════════════════════════════════════════════════════════════════════»\n",
       "                                                                             »\n",
       "c_3: ════════════════════════════════════════════════════════════════════════»\n",
       "                                                                             »\n",
       "«                          ┌───┐        \n",
       "«q_0: ───────────────■─────┤ X ├────────\n",
       "«         ┌───┐      │     └───┘        \n",
       "«q_1: ────┤ X ├──────┼──────────────────\n",
       "«         └───┘    ┌─┴─┐           ┌───┐\n",
       "«q_2: ─■───────────┤ X ├─■─────────┤ X ├\n",
       "«      │-pi/-pi/4  └───┘ │pi/pi/4  ├───┤\n",
       "«q_3: ─■─────────────────■─────────┤ X ├\n",
       "«                                  └───┘\n",
       "«c_0: ══════════════════════════════════\n",
       "«                                       \n",
       "«c_1: ══════════════════════════════════\n",
       "«                                       \n",
       "«c_2: ══════════════════════════════════\n",
       "«                                       \n",
       "«c_3: ══════════════════════════════════\n",
       "«                                       "
      ]
     },
     "execution_count": 3,
     "metadata": {},
     "output_type": "execute_result"
    }
   ],
   "source": [
    "#triple controlled Zgate+pauliX to form the oracle 0000\n",
    "qc.x(qr[0])\n",
    "qc.x(qr[1])\n",
    "qc.x(qr[2])\n",
    "qc.x(qr[3])\n",
    "qc.cu1(pi/4, qr[0], qr[3])\n",
    "qc.cx(qr[0], qr[1])\n",
    "qc.cu1(-pi/4, qr[1], qr[3])\n",
    "qc.cx(qr[0], qr[1])\n",
    "qc.cu1(pi/4, qr[1], qr[3])\n",
    "qc.cx(qr[1], qr[2])\n",
    "qc.cu1(-pi/4, qr[2], qr[3])\n",
    "qc.cx(qr[0], qr[2])\n",
    "qc.cu1(pi/4, qr[2], qr[3])\n",
    "qc.cx(qr[1], qr[2])\n",
    "qc.cu1(-pi/4, qr[2], qr[3])\n",
    "qc.cx(qr[0], qr[2])\n",
    "qc.cu1(pi/4, qr[2], qr[3])\n",
    "qc.x(qr[0])\n",
    "qc.x(qr[1])\n",
    "qc.x(qr[2])\n",
    "qc.x(qr[3])\n",
    "qc.draw()"
   ]
  },
  {
   "cell_type": "code",
   "execution_count": 4,
   "metadata": {},
   "outputs": [
    {
     "data": {
      "text/plain": [
       "<qiskit.circuit.instructionset.InstructionSet at 0x25812d3c488>"
      ]
     },
     "execution_count": 4,
     "metadata": {},
     "output_type": "execute_result"
    }
   ],
   "source": [
    "#Now we can amplify\n",
    "qc.h(qr[0])\n",
    "qc.h(qr[1])\n",
    "qc.h(qr[2])\n",
    "qc.h(qr[3])\n",
    "qc.x(qr[0])\n",
    "qc.x(qr[1])\n",
    "qc.x(qr[2])\n",
    "qc.x(qr[3])\n",
    "\n",
    "qc.cu1(pi/4, qr[0], qr[3])\n",
    "qc.cx(qr[0], qr[1])\n",
    "qc.cu1(-pi/4, qr[1], qr[3])\n",
    "qc.cx(qr[0], qr[1])\n",
    "qc.cu1(pi/4, qr[1], qr[3])\n",
    "qc.cx(qr[1], qr[2])\n",
    "qc.cu1(-pi/4, qr[2], qr[3])\n",
    "qc.cx(qr[0], qr[2])\n",
    "qc.cu1(pi/4, qr[2], qr[3])\n",
    "qc.cx(qr[1], qr[2])\n",
    "\n",
    "qc.cu1(-pi/4, qr[2], qr[3])\n",
    "qc.cx(qr[0], qr[2])\n",
    "qc.cu1(pi/4, qr[2], qr[3])\n",
    "\n",
    "qc.x(qr[0])\n",
    "qc.x(qr[1])\n",
    "qc.x(qr[2])\n",
    "qc.x(qr[3])\n",
    "qc.h(qr[0])\n",
    "qc.h(qr[1])\n",
    "qc.h(qr[2])\n",
    "qc.h(qr[3])\n"
   ]
  },
  {
   "cell_type": "code",
   "execution_count": 5,
   "metadata": {},
   "outputs": [
    {
     "ename": "NameError",
     "evalue": "name 'provider' is not defined",
     "output_type": "error",
     "traceback": [
      "\u001b[1;31m---------------------------------------------------------------------------\u001b[0m",
      "\u001b[1;31mNameError\u001b[0m                                 Traceback (most recent call last)",
      "\u001b[1;32m<ipython-input-5-c3376a097152>\u001b[0m in \u001b[0;36m<module>\u001b[1;34m\u001b[0m\n\u001b[0;32m      5\u001b[0m \u001b[0mqc\u001b[0m\u001b[1;33m.\u001b[0m\u001b[0mmeasure\u001b[0m\u001b[1;33m(\u001b[0m\u001b[0mqr\u001b[0m\u001b[1;33m[\u001b[0m\u001b[1;36m2\u001b[0m\u001b[1;33m]\u001b[0m\u001b[1;33m,\u001b[0m \u001b[0mcr\u001b[0m\u001b[1;33m[\u001b[0m\u001b[1;36m2\u001b[0m\u001b[1;33m]\u001b[0m\u001b[1;33m)\u001b[0m\u001b[1;33m\u001b[0m\u001b[1;33m\u001b[0m\u001b[0m\n\u001b[0;32m      6\u001b[0m \u001b[0mqc\u001b[0m\u001b[1;33m.\u001b[0m\u001b[0mmeasure\u001b[0m\u001b[1;33m(\u001b[0m\u001b[0mqr\u001b[0m\u001b[1;33m[\u001b[0m\u001b[1;36m3\u001b[0m\u001b[1;33m]\u001b[0m\u001b[1;33m,\u001b[0m \u001b[0mcr\u001b[0m\u001b[1;33m[\u001b[0m\u001b[1;36m3\u001b[0m\u001b[1;33m]\u001b[0m\u001b[1;33m)\u001b[0m\u001b[1;33m\u001b[0m\u001b[1;33m\u001b[0m\u001b[0m\n\u001b[1;32m----> 7\u001b[1;33m \u001b[0mbackend\u001b[0m \u001b[1;33m=\u001b[0m\u001b[0mprovider\u001b[0m\u001b[1;33m.\u001b[0m\u001b[0mget_backend\u001b[0m\u001b[1;33m(\u001b[0m\u001b[1;34m''\u001b[0m\u001b[1;33m)\u001b[0m\u001b[1;33m\u001b[0m\u001b[1;33m\u001b[0m\u001b[0m\n\u001b[0m\u001b[0;32m      8\u001b[0m \u001b[0mjob\u001b[0m \u001b[1;33m=\u001b[0m \u001b[0mexecute\u001b[0m\u001b[1;33m(\u001b[0m\u001b[0mqc\u001b[0m\u001b[1;33m,\u001b[0m \u001b[0mbackend\u001b[0m\u001b[1;33m,\u001b[0m \u001b[0mshots\u001b[0m\u001b[1;33m=\u001b[0m\u001b[1;36m100\u001b[0m\u001b[1;33m)\u001b[0m\u001b[1;33m\u001b[0m\u001b[1;33m\u001b[0m\u001b[0m\n\u001b[0;32m      9\u001b[0m \u001b[0mresult\u001b[0m \u001b[1;33m=\u001b[0m \u001b[0mjob\u001b[0m\u001b[1;33m.\u001b[0m\u001b[0mresult\u001b[0m\u001b[1;33m(\u001b[0m\u001b[1;33m)\u001b[0m\u001b[1;33m\u001b[0m\u001b[1;33m\u001b[0m\u001b[0m\n",
      "\u001b[1;31mNameError\u001b[0m: name 'provider' is not defined"
     ]
    }
   ],
   "source": [
    "#Measurment\n",
    "qc.barrier(qr)\n",
    "qc.measure(qr[0], cr[0])\n",
    "qc.measure(qr[1], cr[1])\n",
    "qc.measure(qr[2], cr[2])\n",
    "qc.measure(qr[3], cr[3])\n",
    "backend =provider.get_backend('')\n",
    "job = execute(qc, backend, shots=100)\n",
    "result = job.result()\n",
    "counts = result.get_counts(qc)\n",
    "visualization.plot_histogram(counts)"
   ]
  },
  {
   "cell_type": "code",
   "execution_count": null,
   "metadata": {},
   "outputs": [],
   "source": []
  }
 ],
 "metadata": {
  "kernelspec": {
   "display_name": "Python 3",
   "language": "python",
   "name": "python3"
  },
  "language_info": {
   "codemirror_mode": {
    "name": "ipython",
    "version": 3
   },
   "file_extension": ".py",
   "mimetype": "text/x-python",
   "name": "python",
   "nbconvert_exporter": "python",
   "pygments_lexer": "ipython3",
   "version": "3.7.6"
  }
 },
 "nbformat": 4,
 "nbformat_minor": 4
}
