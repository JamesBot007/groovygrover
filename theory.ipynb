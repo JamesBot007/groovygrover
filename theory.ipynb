{
 "cells": [
  {
   "attachments": {},
   "cell_type": "markdown",
   "metadata": {},
   "source": [
    "$\\textbf{Grover Search Algorithm}$<br>\n",
    "Ongoing list of all my notes regarding theory"
   ]
  },
  {
   "cell_type": "markdown",
   "metadata": {},
   "source": [
    "$\\textbf{Abstract}$<br>\n",
    "Search applications, especially for unsorted data, are limited by the number of elements N. To find a specific element with a probability of 50%, any classical algorithm has to access the database a minimum of 0.5N times. However, in the worst case, N times are required if the last evaluation leads to the correct member. Thus, classical computation cannot solve the problem in fewer than $\\displaystyle{O(N)}$ evaluations.<br>\n",
    "Quantum mechanics can speed up a range of search applications over unsorted data. Quantum mechanical systems can be in a superposition of states and simultaneously examine multiple elements. By properly adjusting the phases of various operations, successful computations reinforce each other while others interfere randomly. As a result, the desired element can be obtained in only  $\\displaystyle{O(\\sqrt{N})}$ accesses to the database. "
   ]
  },
  {
   "cell_type": "markdown",
   "metadata": {},
   "source": [
    "$\\textbf{The Problem}$ <br>\n",
    "For a function $f(x)$, $x\\in \\{0,1,2,...,2^{n-1}\\}$, <br>\n",
    "we want to find x*, for which:<br>\n",
    "$f(x)=0,$<br>\n",
    "$f(x)=1.$<br>"
   ]
  },
  {
   "cell_type": "markdown",
   "metadata": {},
   "source": [
    "$\\textbf{What exactly is $f(x)$}?$<br>\n",
    "$f$ is a blackbox function, meaning its internal is supposed to be concealed.<br>\n",
    "However, the practical application of this definition is difficult to understand.<br>\n",
    "Rather, we encounter this problem in the form of a function inversion:<br>\n",
    "There are many functions we know how to compute, but we don't know how to invert.<br>\n",
    "The problem then is written as:<br>\n",
    "$g(x*)=y,$<br>\n",
    "Find $x*$ given $y$, <br>\n",
    "which is equivalent to the problem above, since we can define: <br>\n",
    "$f(x):$ competes $y'=g(x)$<br>\n",
    "and compares $y'=y?$ and returns $1$ if true.<br>\n",
    "In the form of a database search, this means:<br>\n",
    "-$f$ functions as the database,<br>\n",
    "-$y$ is an entry in that database,<br>\n",
    "-$x*$ is the index that produces $y$.<br>\n",
    "This is why the Grover first called his algorithm the $\\textit{Database Search algorithm}$."
   ]
  },
  {
   "cell_type": "markdown",
   "metadata": {},
   "source": [
    "$\\textbf{Grover Quantum}$<br>\n",
    "$$\\newcommand{\\braket}[2]{\\left\\langle{#1}\\middle|{#2}\\right\\rangle}$$\n",
    "$\\newcommand{\\ket}[1]{\\left|{#1}\\right\\rangle}\n",
    "\\newcommand{\\bra}[1]{\\left\\langle{#1}\\right|}$\n",
    "Now, we translate the problem into a quantum framework.<br>\n",
    "$x \\rightarrow \\ket{x},$<br>\n",
    "$f\\rightarrow \\displaystyle{O},$<br>\n",
    "where $O$ is a linear transformation called $\\textit{Oracle}$.<br>\n",
    "Can we now write:<br>\n",
    "$O\\ket{x}=\\ket{0}, \\ket{x}\\neq \\ket{x*},$<br>\n",
    "$O\\ket{x*}=\\ket{1}$?<br>\n",
    "Unfortunately, no. Any linear transformation has to be invertable, which is not the case.<br>\n",
    "But, we can write the equation like this:<br>\n",
    "$O\\ket{x}=(-1)^{0}\\ket{x}=(-1)^{f(x)}\\ket{x}$ if $x \\neq x*$<br>\n",
    "$O\\ket{x*}=(-1)^{1}\\ket{x*}=(-1)^{f(x)}\\ket{x*}!$<br>\n",
    "$\\textit{New question:}$ Given $O$ find $O\\ket{x*}=-\\ket{x*}$"
   ]
  },
  {
   "cell_type": "markdown",
   "metadata": {},
   "source": [
    "We don't want to check all values of x individually, because that would basically be a classical algorithm.\n",
    "Fortunately, the state of our system does not have to be classical, it can be a superposition of classical states.\n",
    "Thus, we apply the operater $O$ to a superposition, meaning we check the values which make up the superposition simultaneously.<br>\n",
    "To apply this, we first have to create a uniform superposition $S$. This is nothing other by applying a Hadamard gate $H$ to the state zero."
   ]
  },
  {
   "cell_type": "code",
   "execution_count": null,
   "metadata": {},
   "outputs": [],
   "source": []
  }
 ],
 "metadata": {
  "kernelspec": {
   "display_name": "Python 3",
   "language": "python",
   "name": "python3"
  },
  "language_info": {
   "codemirror_mode": {
    "name": "ipython",
    "version": 3
   },
   "file_extension": ".py",
   "mimetype": "text/x-python",
   "name": "python",
   "nbconvert_exporter": "python",
   "pygments_lexer": "ipython3",
   "version": "3.7.6"
  }
 },
 "nbformat": 4,
 "nbformat_minor": 4
}
